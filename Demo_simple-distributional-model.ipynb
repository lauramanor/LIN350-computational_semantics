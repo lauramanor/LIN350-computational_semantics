{
 "cells": [
  {
   "cell_type": "markdown",
   "metadata": {},
   "source": [
    "# Demo: a very simple distributional model"
   ]
  },
  {
   "cell_type": "code",
   "execution_count": 1,
   "metadata": {},
   "outputs": [
    {
     "name": "stdout",
     "output_type": "stream",
     "text": [
      "[nltk_data] Downloading package brown to\n",
      "[nltk_data]     C:\\Users\\ljman\\AppData\\Roaming\\nltk_data...\n",
      "[nltk_data]   Package brown is already up-to-date!\n"
     ]
    },
    {
     "data": {
      "text/plain": [
       "True"
      ]
     },
     "execution_count": 1,
     "metadata": {},
     "output_type": "execute_result"
    }
   ],
   "source": [
    "import nltk\n",
    "nltk.download('brown')"
   ]
  },
  {
   "cell_type": "code",
   "execution_count": 3,
   "metadata": {},
   "outputs": [],
   "source": [
    "def compute_space(context_size, corpus):\n",
    "    space = nltk.ConditionalFreqDist()\n",
    "    \n",
    "    for index in range(len(corpus)):\n",
    "        # current word\n",
    "        current = corpus[ index ]\n",
    "            \n",
    "        # context before the current word: count each item\n",
    "        # but no preceding context for index 0\n",
    "        if index > 0:\n",
    "            # don't start from a cxword_index < 0 in case index < context_size\n",
    "            for cxword_index in range(max(index - context_size, 0), index):\n",
    "                cxword = corpus[ cxword_index ]\n",
    "                # In a ConditionalFreqDist, if 'current' is not a condition yet,\n",
    "                # then accessing it creates a new empty FreqDist for 'current'\n",
    "                # The FreqDist method inc() increments the count for the given item by one.\n",
    "                space[ current ].update([cxword])\n",
    "        \n",
    "        # context after the current word: count each item\n",
    "        # but no succeeding context for the last item (index len(corpus - 1))\n",
    "        if index < len(corpus) - 1:\n",
    "            # don't run until a cxword_index > len(corpus) in case\n",
    "            # index + context_size > len(corpus)\n",
    "            for cxword_index in range(index + 1, min(index + context_size + 1, len(corpus))):\n",
    "                cxword = corpus[ cxword_index ]\n",
    "                # In a ConditionalFreqDist, if 'current' is not a condition yet,\n",
    "                # then accessing it creates a new empty FreqDist for 'current'\n",
    "                # The FreqDist method inc() increments the count for the given item by one.\n",
    "                space[ current ].update([cxword])\n",
    "                \n",
    "    return space\n",
    "\n",
    "\n"
   ]
  },
  {
   "cell_type": "code",
   "execution_count": 4,
   "metadata": {},
   "outputs": [
    {
     "name": "stdout",
     "output_type": "stream",
     "text": [
      "reading Brown corpus...\n"
     ]
    }
   ],
   "source": [
    "print( \"reading Brown corpus...\")\n",
    "brown_words = list(nltk.corpus.brown.words())\n"
   ]
  },
  {
   "cell_type": "code",
   "execution_count": 5,
   "metadata": {},
   "outputs": [
    {
     "name": "stdout",
     "output_type": "stream",
     "text": [
      "computing space...\n"
     ]
    }
   ],
   "source": [
    "print( \"computing space...\")\n",
    "sp = compute_space(2, brown_words)"
   ]
  },
  {
   "cell_type": "markdown",
   "metadata": {},
   "source": [
    "## 10 most frequent context words: \n",
    "similar across many items\n",
    "(what can we do about that?)"
   ]
  },
  {
   "cell_type": "code",
   "execution_count": 11,
   "metadata": {},
   "outputs": [
    {
     "name": "stdout",
     "output_type": "stream",
     "text": [
      "election:\n",
      " [('the', 35), ('of', 20), (',', 15), ('.', 13), ('to', 10), ('in', 8), ('``', 5), ('for', 5), ('was', 4), ('and', 4)]\n",
      "love:\n",
      " [(',', 56), ('of', 47), ('and', 40), ('the', 34), ('in', 33), ('.', 26), ('to', 25), ('for', 25), ('I', 16), ('you', 14)]\n",
      "car:\n",
      " [('the', 127), ('.', 64), ('a', 55), (',', 47), ('in', 29), ('and', 27), ('The', 24), ('his', 24), ('of', 23), ('was', 18)]\n"
     ]
    }
   ],
   "source": [
    "print(\"election:\\n\", sp[\"election\"].most_common(10))\n",
    "print(\"love:\\n\", sp[\"love\"].most_common(10))\n",
    "print(\"car:\\n\", sp[\"car\"].most_common(10))"
   ]
  },
  {
   "cell_type": "markdown",
   "metadata": {},
   "source": [
    "### 100 most frequent context words\n",
    "now we are starting to see differences\n"
   ]
  },
  {
   "cell_type": "code",
   "execution_count": 13,
   "metadata": {},
   "outputs": [
    {
     "name": "stdout",
     "output_type": "stream",
     "text": [
      "election:\n",
      " [('the', 35), ('of', 20), (',', 15), ('.', 13), ('to', 10), ('in', 8), ('``', 5), ('for', 5), ('was', 4), ('and', 4), ('an', 4), ('his', 3), ('I', 3), ('on', 3), ('presidential', 3), ('The', 3), ('recent', 2), ('primary', 2), ('which', 2), ('ever', 2), ('not', 2), ('campaign', 2), ('were', 2), ('judges', 2), ('last', 2), ('a', 2), ('be', 2), ('Presidential', 2), ('results', 2), ('November', 2), ('is', 2), ('close', 2), ('board', 2), ('commissioners', 2), ('that', 2), (';', 2), ('April', 2), ('year', 2), ('produced', 1), ('conducted', 1), ('registration', 1), ('laws', 1), ('city', 1), ('general', 1), ('ballot', 1), ('coolest', 1), (\"Saturday's\", 1), ('calmest', 1), ('During', 1), ('scheduled', 1), ('Many', 1), ('orderly', 1), ('Sheriff', 1), ('Nov.', 1), ('8', 1), ('dismissed', 1), ('investigation', 1), ('attorney', 1), ('him', 1), ('day', 1), ('told', 1), ('us', 1), ('possible', 1), ('special', 1), ('might', 1), (\"fall's\", 1), ('did', 1), ('program', 1), ('reforms', 1), ('necessary', 1), ('interest', 1), ('transcended', 1), (\"you'll\", 1), ('think', 1), ('18', 1), ('received', 1), ('And', 1), ('President', 1), ('1920', 1), ('they', 1), ('had', 1), ('into', 1), ('almost', 1), ('since', 1), ('pull', 1), ('Now', 1), ('$581,000', 1), ('bond', 1), ('will', 1), ('Relations', 1), ('Board', 1), ('Thursday', 1), ('voted', 1), ('up', 1), ('pick', 1), ('1960', 1), ('Nixon', 1), ('His', 1), (\"Sunday's\", 1), ('national', 1)]\n"
     ]
    }
   ],
   "source": [
    "print(\"election:\\n\", sp[\"election\"].most_common(100))"
   ]
  },
  {
   "cell_type": "code",
   "execution_count": 14,
   "metadata": {},
   "outputs": [
    {
     "name": "stdout",
     "output_type": "stream",
     "text": [
      "love:\n",
      " [(',', 56), ('of', 47), ('and', 40), ('the', 34), ('in', 33), ('.', 26), ('to', 25), ('for', 25), ('I', 16), ('you', 14), ('is', 14), ('with', 14), ('a', 12), ('his', 9), (\"''\", 8), ('him', 8), ('that', 8), ('God', 8), ('this', 8), ('it', 7), ('as', 6), ('her', 6), ('``', 6), ('was', 6), ('my', 6), (';', 6), ('we', 5), ('not', 5), ('The', 4), ('us', 4), ('know', 4), ('His', 4), ('which', 4), ('faith', 4), ('!', 4), ('true', 4), ('by', 3), ('their', 3), ('fell', 3), ('them', 3), ('--', 3), ('knowledge', 3), ('but', 3), ('those', 3), ('only', 3), ('fallen', 3), ('me', 3), ('We', 2), ('bound', 2), (\"God's\", 2), ('being', 2), ('through', 2), ('how', 2), ('give', 2), (\"mother's\", 2), ('without', 2), ('fall', 2), ('shared', 2), ('even', 2), ('Christ', 2), ('Christian', 2), ('brethren', 2), ('men', 2), ('just', 2), ('expressed', 2), ('songs', 2), ('nature', 2), ('They', 2), ('(', 2), (\"I'd\", 2), ('he', 2), ('force', 2), ('country', 2), ('forbidden', 2), ('on', 2), ('an', 2), ('almost', 2), (\"boy's\", 2), ('lost', 2), ('romantic', 2), ('about', 2), ('My', 2), ('like', 2), ('law', 2), ('marriage', 2), ('never', 2), ('capacity', 2), ('suffer', 2), ('most', 2), ('our', 2), ('made', 2), ('?', 2), ('real', 2), ('could', 2), ('Johnnie', 2), ('hopelessly', 2), ('can', 1), ('Eisenhower', 1), ('boys', 1), ('Most', 1)]\n"
     ]
    }
   ],
   "source": [
    "print(\"love:\\n\", sp[\"love\"].most_common(100))"
   ]
  },
  {
   "cell_type": "code",
   "execution_count": 15,
   "metadata": {},
   "outputs": [
    {
     "name": "stdout",
     "output_type": "stream",
     "text": [
      "car:\n",
      " [('the', 127), ('.', 64), ('a', 55), (',', 47), ('in', 29), ('and', 27), ('The', 24), ('his', 24), ('of', 23), ('was', 18), ('with', 17), ('to', 14), ('by', 10), ('is', 9), ('that', 9), ('on', 9), (\"''\", 9), ('police', 8), ('into', 7), ('parked', 7), ('my', 7), ('when', 6), ('which', 6), ('he', 6), ('big', 6), ('at', 6), ('for', 6), ('your', 6), ('?', 6), ('had', 6), ('as', 5), ('approaching', 5), ('it', 5), ('be', 5), ('driven', 5), ('little', 5), ('one', 5), ('you', 5), ('motor', 5), ('up', 5), ('coming', 5), ('but', 4), (';', 4), ('drive', 4), ('I', 4), ('second', 4), ('other', 3), ('their', 3), ('around', 3), ('new', 3), ('She', 3), ('take', 3), ('any', 3), ('her', 3), ('sports', 3), ('before', 3), ('left', 3), ('driving', 3), ('could', 3), ('--', 3), ('will', 3), ('reserve', 3), ('than', 3), ('It', 3), ('If', 3), ('see', 3), ('from', 3), ('here', 3), ('A', 3), ('He', 3), ('run', 2), ('wanted', 2), ('Kimmell', 2), ('passing', 2), ('were', 2), ('Mr.', 2), ('against', 2), ('sales', 2), ('has', 2), ('This', 2), ('now', 2), ('must', 2), ('drove', 2), ('out', 2), ('private', 2), ('itself', 2), ('fast', 2), ('speed', 2), ('box', 2), ('afford', 2), ('another', 2), ('renting', 2), ('get', 2), ('same', 2), ('lease', 2), ('Europe', 2), ('industry', 2), ('waiting', 2), ('where', 2), ('until', 2)]\n"
     ]
    }
   ],
   "source": [
    "print(\"car:\\n\", sp[\"car\"].most_common(100))"
   ]
  },
  {
   "cell_type": "markdown",
   "metadata": {},
   "source": [
    "### some ambiguous words"
   ]
  },
  {
   "cell_type": "code",
   "execution_count": 16,
   "metadata": {},
   "outputs": [
    {
     "name": "stdout",
     "output_type": "stream",
     "text": [
      "bat:\n",
      " [('a', 5), ('the', 5), ('to', 5), (',', 4), ('with', 4), ('.', 4), ('on', 3), ('and', 3), ('at', 2), ('clay', 2), ('up', 2), ('grabbed', 1), ('headed', 1), ('ball', 1), ('in', 1), ('their', 1), ('night', 1), ('four', 1), (\"teammate's\", 1), ('became', 1), ('times', 1), ('two', 1), (\"He'll\", 1), ('just', 1), (\"'\", 1), ('or', 1), ('plaster', 1), ('reverse', 1), ('as', 1), ('Willie', 1), ('go', 1), ('first', 1), ('managed', 1), ('muzzle', 1), ('through', 1), ('it', 1), ('nimbly', 1), ('hit', 1), ('Everyone', 1), ('of', 1), ('his', 1), ('He', 1), ('holding', 1), ('both', 1)]\n",
      "bank:\n",
      " [('the', 50), ('of', 15), ('.', 15), (',', 11), ('a', 7), ('in', 5), ('The', 5), ('and', 5), ('which', 3), ('to', 3), ('from', 2), ('--', 2), ('with', 2), ('local', 2), ('south', 2), ('that', 2), ('held', 2), ('east', 2), ('by', 2), ('west', 2), ('on', 2), ('through', 2), ('take', 1), ('over', 1), ('accounts', 1), ('confidence', 1), ('customers', 1), ('convicted', 1), ('robber', 1), ('Lawrence', 1), ('Switzerland', 1), ('Swiss', 1), ('have', 1), ('even', 1), (\"fund's\", 1), ('custodian', 1), ('That', 1), ('handles', 1), ('most', 1), ('installed', 1), ('visited', 1), ('March', 1), ('at', 1), ('said', 1), ('they', 1), ('Doyle', 1), ('is', 1), ('done', 1), ('policy', 1), ('make', 1), ('deposit', 1), ('Deer', 1), ('cloud', 1), ('hope', 1), (\"Hamilton's\", 1), ('would', 1), ('accept', 1), ('for', 1), ('liquidation', 1), ('later', 1), ('handling', 1), ('sighed', 1), ('president', 1), ('instructing', 1), ('destroy', 1), ('officials', 1), ('before', 1), ('checks', 1), ('be', 1), ('loans', 1), ('left', 1), ('arroyo', 1), ('Bullets', 1), ('In', 1), ('French', 1), ('From', 1), ('wrong', 1), ('far', 1), ('Prompted', 1), ('soft', 1), ('up', 1), ('toward', 1), ('down', 1), ('passed', 1), ('Bronx', 1), ('administering', 1), ('river', 1), ('He', 1), ('faro', 1), ('Cap', 1), (\"''\", 1), ('high', 1), ('outside', 1), ('big', 1), ('roll', 1)]\n",
      "bar:\n",
      " [('the', 50), ('.', 17), (',', 15), ('and', 11), ('a', 11), ('locking', 10), ('in', 9), ('of', 8), ('to', 7), ('Af', 6), ('at', 5), ('with', 4), ('spacers', 4), ('on', 4), ('an', 3), ('The', 2), ('running', 2), ('(', 2), ('``', 2), ('A', 2), ('into', 2), ('while', 2), ('chinning', 2), ('is', 2), ('he', 2), ('as', 2), ('patent', 2), ('charting', 2), ('grill', 2), ('against', 2), ('Would', 1), ('vehicles', 1), ('sawed-off', 1), ('without', 1), ('approval', 1), ('singing', 1), ('cocktail', 1), ('In', 1), ('grasp', 1), ('which', 1), ('feel', 1), ('come', 1), ('lightly', 1), ('hold', 1), ('held', 1), ('each', 1), ('These', 1), ('Tack-solder', 1), (\"12''\", 1), (\"''\", 1), ('five', 1), ('tack-solder', 1), ('spacer', 1), ('directly', 1), ('brass', 1), ('stock', 1), (\"3-3/4''\", 1), ('To', 1), ('across', 1), ('completed', 1), ('should', 1), ('remain', 1), ('one', 1), ('Figs.', 1), ('Chuck', 1), ('File', 1), ('above', 1), ('This', 1), ('proper', 1), ('rough', 1), ('our', 1), ('protesting', 1), ('horizontal', 1), ('rings', 1), ('For', 1), ('arm', 1), ('recommended', 1), ('chocolate', 1), ('had', 1), ('effort', 1), ('intrusion', 1), ('prefers', 1), ('who', 1), ('echoed', 1), ('so', 1), ('absolute', 1), ('recovery', 1), ('did', 1), ('not', 1), ('finding', 1), ('that', 1), ('little', 1), ('next', 1), ('over', 1), ('was', 1), ('breakfast', 1), ('Both', 1), ('kitchen', 1), ('Kidnaper', 1), ('off', 1)]\n",
      "leave:\n",
      " [('to', 87), ('the', 47), (',', 26), ('.', 26), ('and', 22), ('you', 16), ('it', 16), ('him', 12), ('I', 11), (\"''\", 11), ('not', 10), ('a', 9), ('her', 8), ('had', 8), ('before', 7), ('his', 7), ('they', 7), ('that', 6), ('of', 6), ('in', 6), ('for', 6), ('would', 6), ('this', 5), ('my', 5), ('on', 5), ('he', 5), ('want', 5), ('will', 4), ('with', 4), ('did', 4), ('France', 4), ('me', 4), ('?', 4), (\"can't\", 4), ('here', 3), ('``', 3), ('us', 3), ('room', 3), ('but', 3), ('one', 3), ('when', 3), ('there', 3), ('country', 3), ('He', 3), ('alone', 3), ('their', 3), ('decided', 3), ('or', 3), ('could', 3), (\"I'll\", 3), ('just', 3), ('she', 3), ('party', 3), ('do', 2), ('behind', 2), ('we', 2), ('right', 2), ('But', 2), ('have', 2), ('let', 2), ('Parker', 2), ('about', 2), ('them', 2), ('because', 2), ('own', 2), ('people', 2), ('at', 2), ('no', 2), ('When', 2), (\"couldn't\", 2), ('cannot', 2), ('farm', 2), ('from', 2), ('seen', 2), ('saw', 2), ('out', 2), ('should', 2), ('residue', 2), ('better', 2), ('!', 2), ('never', 2), ('permission', 2), ('was', 2), ('We', 2), ('all', 2), ('extend', 2), ('nest', 2), ('up', 2), ('am', 2), ('take', 2), (\"wouldn't\", 2), ('off', 2), (\"he'd\", 2), ('wife', 2), ('--', 2), ('No', 2), ('than', 2), ('last', 2), (\"don't\", 2), ('D.', 1)]\n"
     ]
    }
   ],
   "source": [
    "print(\"bat:\\n\", sp[\"bat\"].most_common(100))\n",
    "print(\"bank:\\n\", sp[\"bank\"].most_common(100))\n",
    "print(\"bar:\\n\", sp[\"bar\"].most_common(100))\n",
    "print(\"leave:\\n\", sp[\"leave\"].most_common(100))"
   ]
  },
  {
   "cell_type": "code",
   "execution_count": 6,
   "metadata": {},
   "outputs": [
    {
     "name": "stdout",
     "output_type": "stream",
     "text": [
      "waffle:\n",
      " []\n"
     ]
    }
   ],
   "source": [
    "print(\"waffle:\\n\", sp[\"waffle\"].most_common(100))\n"
   ]
  },
  {
   "cell_type": "code",
   "execution_count": 7,
   "metadata": {},
   "outputs": [
    {
     "name": "stdout",
     "output_type": "stream",
     "text": [
      "pancake:\n",
      " []\n"
     ]
    }
   ],
   "source": [
    "print(\"pancake:\\n\", sp[\"pancake\"].most_common(100))\n"
   ]
  },
  {
   "cell_type": "code",
   "execution_count": 8,
   "metadata": {},
   "outputs": [
    {
     "name": "stdout",
     "output_type": "stream",
     "text": [
      "university:\n",
      " [('the', 42), (',', 24), ('.', 21), ('of', 14), ('and', 13), ('at', 12), ('in', 10), ('or', 10), ('college', 10), ('to', 9), ('a', 9), ('that', 6), ('state', 4), ('for', 3), ('president', 3), ('The', 3), ('as', 3), ('students', 3), ('their', 3), ('true', 2), ('did', 2), ('not', 2), ('major', 2), ('Catholic', 2), ('which', 2), ('And', 2), ('owns', 2), ('In', 2), ('``', 2), ('church', 2), ('Hans', 2), ('with', 2), ('have', 2), (';', 2), ('former', 2), ('only', 2), ('?', 2), ('milieu', 2), ('--', 2), ('on', 2), ('At', 2), ('bringing', 1), ('Tulane', 1), ('where', 1), ('grade', 1), ('itself', 1), ('criticized', 1), ('irrespective', 1), ('continuing', 1), ('policy', 1), ('Cochran', 1), ('vice', 1), ('American', 1), ('succeeds', 1), ('she', 1), ('school', 1), ('But', 1), ('resembles', 1), ('its', 1), (')', 1), ('is', 1), ('whose', 1), (\"''\", 1), (':', 1), ('without', 1), ('gaining', 1), ('Religious', 1), ('ordered', 1), ('admit', 1), ('into', 1), ('They', 1), ('rejected', 1), ('them', 1), ('said', 1), ('would', 1), ('close', 1), ('exactly', 1), ('14', 1), ('graduates', 1), ('each', 1), ('graduate', 1), ('large', 1), ('city', 1), ('following', 1), ('help', 1), ('him', 1), ('alumni', 1), ('business', 1), ('groups', 1), ('generally', 1), ('sources', 1), ('just', 1), ('beyond', 1), ('from', 1), ('student', 1), ('preparing', 1), ('He', 1), ('it', 1), ('he', 1), ('was', 1)]\n"
     ]
    }
   ],
   "source": [
    "print(\"university:\\n\", sp[\"university\"].most_common(100))\n"
   ]
  },
  {
   "cell_type": "code",
   "execution_count": 9,
   "metadata": {},
   "outputs": [
    {
     "name": "stdout",
     "output_type": "stream",
     "text": [
      "waffe:\n",
      " []\n"
     ]
    }
   ],
   "source": [
    "print(\"waffe:\\n\", sp[\"waffle\"].most_common(100))\n"
   ]
  },
  {
   "cell_type": "code",
   "execution_count": null,
   "metadata": {},
   "outputs": [],
   "source": []
  }
 ],
 "metadata": {
  "kernelspec": {
   "display_name": "Python 3",
   "language": "python",
   "name": "python3"
  },
  "language_info": {
   "codemirror_mode": {
    "name": "ipython",
    "version": 3
   },
   "file_extension": ".py",
   "mimetype": "text/x-python",
   "name": "python",
   "nbconvert_exporter": "python",
   "pygments_lexer": "ipython3",
   "version": "3.6.5"
  }
 },
 "nbformat": 4,
 "nbformat_minor": 2
}
